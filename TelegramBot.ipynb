{
 "cells": [
  {
   "cell_type": "code",
   "execution_count": 7,
   "metadata": {},
   "outputs": [],
   "source": [
    "from telegram.ext import Updater, CommandHandler, MessageHandler, Filters"
   ]
  },
  {
   "cell_type": "code",
   "execution_count": 15,
   "metadata": {},
   "outputs": [],
   "source": [
    "with open('creds', 'r') as f:\n",
    "    token = f.readline()[:-1]"
   ]
  },
  {
   "cell_type": "code",
   "execution_count": 9,
   "metadata": {},
   "outputs": [],
   "source": [
    "def start(update, context):\n",
    "    context.bot.send_message(chat_id=update.effective_chat.id, text=\"I'm a bot, please talk to me!\")\n",
    "    \n",
    "    \n",
    "def anything(update, context):\n",
    "#     print(update)\n",
    "    context.bot.send_message(chat_id=update.effective_chat.id, text=update.message.text)\n",
    "    \n",
    "def handle_photo(update, context):\n",
    "    global pending_counter\n",
    "    file = context.bot.getFile(update.message.photo[-1].file_id)  # latest photo is the biggest\n",
    "    file.download('./saved_image_big.jpg')\n",
    "    context.bot.send_message(chat_id=update.effective_chat.id, text='Your position: {}'.format(pending_counter))\n",
    "    context.bot.send_message(chat_id=update.effective_chat.id, text='Later there will be GIF or Video')\n",
    "    #bot.send_photo(chat_id=chat_id, photo=open('tests/test.png', 'rb'))"
   ]
  },
  {
   "cell_type": "code",
   "execution_count": 17,
   "metadata": {},
   "outputs": [],
   "source": [
    "updater = Updater(token=token, use_context=True)\n",
    "\n",
    "dispatcher = updater.dispatcher\n",
    "\n",
    "start_handler = CommandHandler('start', start)\n",
    "all_handler = MessageHandler(Filters.text & (~Filters.command), anything)\n",
    "photo_handler = MessageHandler(Filters.photo, handle_photo)\n",
    "\n",
    "dispatcher.add_handler(start_handler)\n",
    "dispatcher.add_handler(all_handler)\n",
    "dispatcher.add_handler(photo_handler)"
   ]
  },
  {
   "cell_type": "code",
   "execution_count": 18,
   "metadata": {
    "scrolled": true
   },
   "outputs": [
    {
     "data": {
      "text/plain": [
       "<queue.Queue at 0x7fb13e5482d0>"
      ]
     },
     "execution_count": 18,
     "metadata": {},
     "output_type": "execute_result"
    }
   ],
   "source": [
    "updater.start_polling()"
   ]
  },
  {
   "cell_type": "code",
   "execution_count": 19,
   "metadata": {},
   "outputs": [],
   "source": [
    "updater.stop()"
   ]
  },
  {
   "cell_type": "code",
   "execution_count": null,
   "metadata": {},
   "outputs": [],
   "source": []
  },
  {
   "cell_type": "code",
   "execution_count": null,
   "metadata": {},
   "outputs": [],
   "source": []
  },
  {
   "cell_type": "code",
   "execution_count": null,
   "metadata": {},
   "outputs": [],
   "source": []
  }
 ],
 "metadata": {
  "kernelspec": {
   "display_name": "Python 3",
   "language": "python",
   "name": "python3"
  },
  "language_info": {
   "codemirror_mode": {
    "name": "ipython",
    "version": 3
   },
   "file_extension": ".py",
   "mimetype": "text/x-python",
   "name": "python",
   "nbconvert_exporter": "python",
   "pygments_lexer": "ipython3",
   "version": "3.7.4"
  }
 },
 "nbformat": 4,
 "nbformat_minor": 2
}

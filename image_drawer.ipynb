{
 "cells": [
  {
   "cell_type": "code",
   "execution_count": null,
   "metadata": {},
   "outputs": [],
   "source": [
    "import cv2\n",
    "import numpy as np\n",
    "import matplotlib.pyplot as plt\n",
    "import skimage\n",
    "import time"
   ]
  },
  {
   "cell_type": "code",
   "execution_count": null,
   "metadata": {},
   "outputs": [],
   "source": [
    "# remove some points with decay\n",
    "# add progressive parameteres based on likelihood\n",
    "# add \"speeding up\" in case of mouse movement or keyboard"
   ]
  },
  {
   "cell_type": "code",
   "execution_count": null,
   "metadata": {},
   "outputs": [],
   "source": [
    "img = cv2.imread('../print.jpg')/255.0\n",
    "max_size = 1000\n",
    "H, W = img.shape[0], img.shape[1]\n",
    "if H > W:\n",
    "    if H > max_size:\n",
    "        img = cv2.resize(img, (int(W * max_size / H)), max_size)\n",
    "else:\n",
    "    if W > max_size:\n",
    "        img = cv2.resize(img, (max_size, int(H * max_size / W)))\n",
    "        \n",
    "H, W = img.shape[0], img.shape[1]\n",
    "padding = int(W * 0.1 if H > W else H * 0.1)\n",
    "zeros = np.zeros((H + padding * 2, W + padding * 2, 3))\n",
    "zeros[padding: padding + H, padding: padding + W] = img\n",
    "img = zeros\n",
    "mask_img = np.zeros(img.shape)\n",
    "\n",
    "blurs = dict()\n",
    "for i in range(1, 100):\n",
    "    blurs[i] = cv2.blur(img, (i, i))"
   ]
  },
  {
   "cell_type": "code",
   "execution_count": null,
   "metadata": {
    "scrolled": true
   },
   "outputs": [],
   "source": [
    "plt.imshow(img[:,:,::-1])"
   ]
  },
  {
   "cell_type": "code",
   "execution_count": null,
   "metadata": {},
   "outputs": [],
   "source": [
    "class Stroke():\n",
    "    def __init__(self, image, dispersion, amount):\n",
    "        image_size = image.shape[:2]\n",
    "        max_size = max(image_size)\n",
    "        self.dispersion = dispersion\n",
    "        x = np.random.randint(0, image_size[1], 1)\n",
    "        y = np.random.randint(0, image_size[0], 1)\n",
    "        self.center = np.concatenate([x, y], axis=0)\n",
    "        \n",
    "        self.particles_angle = np.random.uniform(0, 2 * np.pi, amount)\n",
    "        self.particles_radius = np.fabs(np.random.normal(0, dispersion*2, amount))\n",
    "        \n",
    "        \n",
    "#         self.positions = np.concatenate([x, y], axis=0)\n",
    "#         self.positions = self.positions.reshape(1, 2).repeat(amount, axis=0)\n",
    "#         self.positions = self.positions + np.random.randn(amount, 2) * (dispersion*2)\n",
    "        self.angle = np.random.uniform(0, 2 * np.pi)\n",
    "        self.rotation = np.random.uniform(-np.pi/30, np.pi/30)\n",
    "        self.color = image[y[0], x[0]]\n",
    "        self.speed = np.random.normal(max_size/200, 5, 1)\n",
    "        self.status = 'running'\n",
    "        self.ttl = np.random.normal(1)\n",
    "        \n",
    "        \n",
    "    def get_mean_color(self, image, x, y):\n",
    "        if 0 < x < image.shape[1] and 0 < y < image.shape[0]:\n",
    "            return blurs[self.dispersion][int(y), int(x)]\n",
    "        else:\n",
    "            return self.color\n",
    "        \n",
    "        \n",
    "    def update(self, image):  \n",
    "        # add removal of some points\n",
    "        self.last_center = self.center.copy()\n",
    "        self.center[0] += np.cos(self.angle) * self.speed\n",
    "        self.center[1] += np.sin(self.angle) * self.speed\n",
    "#         self.particles_angle += self.rotation\n",
    "        self.angle += self.rotation\n",
    "        mean_color = self.get_mean_color(image, self.center[0], self.center[1])\n",
    "        self.color = self.color - (self.color - mean_color)/2\n",
    "        self.ttl -= np.random.uniform(0, 0.05)\n",
    "        if self.ttl <= 0:\n",
    "            self.status = 'deleted'\n",
    "        \n",
    "        \n",
    "    def draw(self, image):\n",
    "        offset_x = np.cos(self.particles_angle) * self.particles_radius\n",
    "        offset_y = np.sin(self.particles_angle) * self.particles_radius\n",
    "        positions = (self.center.reshape(2, 1) + [offset_x, offset_y]).T.reshape(-1, 1, 2)\n",
    "        last_positions = (self.last_center.reshape(2, 1) + [offset_x, offset_y]).T.reshape(-1, 1, 2)\n",
    "        points = np.concatenate([last_positions, positions], axis=1).astype(np.int32)\n",
    "        cv2.polylines(image, points, False, self.color, 2)   \n",
    "        self.particles_angle += self.rotation\n"
   ]
  },
  {
   "cell_type": "code",
   "execution_count": null,
   "metadata": {},
   "outputs": [],
   "source": [
    "max_strokes = 10\n",
    "strokes = [Stroke(img, np.random.randint(1, 8), np.random.randint(1, 20)) for _ in range(max_strokes)]\n",
    "\n",
    "while True:\n",
    "    strokes = [st for st in strokes if st.status != 'deleted']\n",
    "    for _ in range(max_strokes - len(strokes)):\n",
    "        strokes.append(Stroke(img, np.random.randint(1, 8), np.random.randint(1, 20)))\n",
    "    prev = time.time()\n",
    "    for st in strokes:\n",
    "        st.update(img)\n",
    "        st.draw(mask_img)\n",
    "#     print('update and paint: ',(time.time() - prev)*1000)\n",
    "        \n",
    "    prev = time.time()\n",
    "    cv2.imshow('BlindArtist', mask_img)\n",
    "#     print('show ',(time.time() - prev)*1000)\n",
    "    key = cv2.waitKey(1)\n",
    "    if key == 27:      # esc\n",
    "        break\n",
    "        \n",
    "cv2.destroyAllWindows() "
   ]
  },
  {
   "cell_type": "code",
   "execution_count": null,
   "metadata": {},
   "outputs": [],
   "source": []
  },
  {
   "cell_type": "code",
   "execution_count": null,
   "metadata": {},
   "outputs": [],
   "source": []
  }
 ],
 "metadata": {
  "kernelspec": {
   "display_name": "Python 3",
   "language": "python",
   "name": "python3"
  },
  "language_info": {
   "codemirror_mode": {
    "name": "ipython",
    "version": 3
   },
   "file_extension": ".py",
   "mimetype": "text/x-python",
   "name": "python",
   "nbconvert_exporter": "python",
   "pygments_lexer": "ipython3",
   "version": "3.7.4"
  }
 },
 "nbformat": 4,
 "nbformat_minor": 2
}

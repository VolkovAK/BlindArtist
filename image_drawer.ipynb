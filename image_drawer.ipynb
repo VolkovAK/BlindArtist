{
 "cells": [
  {
   "cell_type": "code",
   "execution_count": 132,
   "metadata": {},
   "outputs": [],
   "source": [
    "import cv2\n",
    "import numpy as np\n",
    "import matplotlib.pyplot as plt\n",
    "import skimage\n",
    "import time\n",
    "from sklearn.metrics import mean_absolute_error"
   ]
  },
  {
   "cell_type": "code",
   "execution_count": null,
   "metadata": {},
   "outputs": [],
   "source": [
    "img = cv2.imread('../W_0LvEY_Zus.jpg')/255.0\n",
    "max_size = 1000\n",
    "H, W = img.shape[0], img.shape[1]\n",
    "if H > W:\n",
    "    if H > max_size:\n",
    "        img = cv2.resize(img, (int(W * max_size / H)), max_size)\n",
    "else:\n",
    "    if W > max_size:\n",
    "        img = cv2.resize(img, (max_size, int(H * max_size / W)))\n",
    "        \n",
    "H, W = img.shape[0], img.shape[1]\n",
    "padding = int(W * 0.1 if H > W else H * 0.1)\n",
    "zeros = np.zeros((H + padding * 2, W + padding * 2, 3))\n",
    "zeros[padding: padding + H, padding: padding + W] = img\n",
    "img = zeros\n",
    "mask_img = np.zeros(img.shape)\n",
    "\n",
    "blurs = dict()\n",
    "for i in range(1, 100):\n",
    "    blurs[i] = cv2.blur(img, (i, i))"
   ]
  },
  {
   "cell_type": "code",
   "execution_count": null,
   "metadata": {
    "scrolled": true
   },
   "outputs": [],
   "source": [
    "plt.imshow(img[:,:,::-1])"
   ]
  },
  {
   "cell_type": "code",
   "execution_count": 129,
   "metadata": {},
   "outputs": [],
   "source": [
    "class Stroke():\n",
    "    def __init__(self, image, dispersion, amount, speed, ttl):\n",
    "        image_size = image.shape[:2]\n",
    "        self.dispersion = dispersion\n",
    "        x = np.random.randint(0, image_size[1], 1)\n",
    "        y = np.random.randint(0, image_size[0], 1)\n",
    "        self.center = np.concatenate([x, y], axis=0).astype(np.float)\n",
    "        \n",
    "        self.particles_angle = np.random.uniform(0, 2 * np.pi, amount)\n",
    "        self.particles_radius = np.fabs(np.random.normal(0, dispersion*2, amount))\n",
    "        \n",
    "        self.angle = np.random.uniform(0, 2 * np.pi)\n",
    "        self.rotation = np.random.uniform(-np.pi/60, np.pi/60)\n",
    "        self.color = image[y[0], x[0]]\n",
    "        self.speed = np.random.normal(speed, speed/3, 1)\n",
    "        self.status = 'running'\n",
    "        self.ttl = np.random.normal(ttl)\n",
    "        self.ttl = 0.5 if self.ttl < 0.5 else self.ttl\n",
    "        \n",
    "        \n",
    "    def get_mean_color(self, image, x, y):\n",
    "        if 0 < x < image.shape[1] and 0 < y < image.shape[0]:\n",
    "            return blurs[self.dispersion][int(y), int(x)]\n",
    "        else:\n",
    "            return self.color\n",
    "        \n",
    "        \n",
    "    def update(self, image):  \n",
    "        # add removal of some points\n",
    "        self.last_center = self.center.copy()\n",
    "        self.angle += self.rotation\n",
    "        \n",
    "        self.center[0] += np.cos(self.angle) * self.speed\n",
    "        self.center[1] += np.sin(self.angle) * self.speed\n",
    "        \n",
    "        self.particles_angle += self.rotation\n",
    "        mean_color = self.get_mean_color(image, self.center[0], self.center[1])\n",
    "        self.color = self.color - (self.color - mean_color)/2\n",
    "        self.ttl -= np.random.uniform(0, 0.05)\n",
    "        if self.ttl <= 0:\n",
    "            self.status = 'deleted'\n",
    "        \n",
    "        \n",
    "    def draw(self, image):\n",
    "        offset_x = np.cos(self.particles_angle) * self.particles_radius\n",
    "        offset_y = np.sin(self.particles_angle) * self.particles_radius\n",
    "        positions = (self.center.reshape(2, 1) + [offset_x, offset_y]).T.reshape(-1, 1, 2)\n",
    "        last_positions = (self.last_center.reshape(2, 1) + [offset_x, offset_y]).T.reshape(-1, 1, 2)\n",
    "        points = np.concatenate([last_positions, positions], axis=1).astype(np.int32)\n",
    "        cv2.polylines(image, points, False, self.color, 2)   \n"
   ]
  },
  {
   "cell_type": "code",
   "execution_count": 130,
   "metadata": {},
   "outputs": [
    {
     "name": "stdout",
     "output_type": "stream",
     "text": [
      "0 0.9763816498483923\n",
      "200 0.5075456301391551\n",
      "400 0.42859218508297425\n",
      "600 0.3460562580320358\n",
      "800 0.29399781745051917\n",
      "1000 0.24997083387666885\n",
      "1200 0.21818742562377821\n",
      "1400 0.19392313063100536\n",
      "1600 0.1810613487344895\n",
      "1800 0.1699842962539482\n",
      "2000 0.16171783343621754\n",
      "2200 0.15472801855887183\n",
      "2400 0.1504699408381626\n",
      "2600 0.14886767652842367\n",
      "2800 0.14514661941101523\n",
      "3000 0.14535492488267668\n",
      "3200 0.14286694774022515\n",
      "3400 0.14272189441861355\n",
      "3600 0.1421497070975141\n",
      "3800 0.14063953994462877\n",
      "4000 0.13837772854110814\n",
      "4200 0.1385527569555422\n",
      "4400 0.13908751933981428\n",
      "4600 0.1364210262231543\n",
      "4800 0.13558536133215873\n"
     ]
    }
   ],
   "source": [
    "max_strokes = 10\n",
    "min_dispersion = 5\n",
    "max_dispersion = 18\n",
    "min_amount = 50\n",
    "max_amount = 100\n",
    "max_image_size = max(img.shape[:2])\n",
    "base_speed = max_image_size/100\n",
    "base_ttl = 5\n",
    "strokes = [Stroke(img, \n",
    "                  dispersion=np.random.randint(min_dispersion, max_dispersion), \n",
    "                  amount=np.random.randint(min_amount, max_amount),\n",
    "                  speed=base_speed,\n",
    "                  ttl=base_ttl) for _ in range(max_strokes)]\n",
    "total_img_value = img.sum()\n",
    "error = 1\n",
    "iterations = 0\n",
    "\n",
    "while error > 0.1 and iterations < 5000:\n",
    "    strokes = [st for st in strokes if st.status != 'deleted']\n",
    "    for _ in range(max_strokes - len(strokes)):\n",
    "        strokes.append(Stroke(img, \n",
    "                              np.random.randint(int(min_dispersion), int(max_dispersion)), \n",
    "                              np.random.randint(int(min_amount), int(max_amount)),\n",
    "                              speed=base_speed,\n",
    "                              ttl=base_ttl))\n",
    "        \n",
    "    for st in strokes:\n",
    "        st.update(img)\n",
    "        st.draw(mask_img)\n",
    "        \n",
    "    if iterations % 200 == 0:\n",
    "        error = np.abs((img - mask_img)).sum() / total_img_value\n",
    "        min_dispersion = 8 - (7 * (1 - error))\n",
    "        max_dispersion = 18 - (16 * (1 - error))\n",
    "        min_amount = 50 - (49 * min((1.1 - error), 1))\n",
    "        max_amount = 100 - (95 * min((1.1 - error), 1))\n",
    "        base_speed = max_image_size/100 - (max_image_size/100 * 0.9 * (1 - error))\n",
    "        max_strokes = int(10 + 190 * ((1 - error) ** 8))\n",
    "        base_ttl = 5 - (4 * (1 - error))\n",
    "        print(iterations, error)\n",
    "        \n",
    "    cv2.imshow('BlindArtist', mask_img)\n",
    "    key = cv2.waitKey(1)\n",
    "    if key == 27:      # esc\n",
    "        break\n",
    "    \n",
    "    iterations += 1\n",
    "        \n",
    " "
   ]
  },
  {
   "cell_type": "code",
   "execution_count": 131,
   "metadata": {},
   "outputs": [],
   "source": [
    "cv2.destroyAllWindows()"
   ]
  },
  {
   "cell_type": "code",
   "execution_count": 75,
   "metadata": {},
   "outputs": [],
   "source": [
    "a = np.arange(0, 1, 0.01)"
   ]
  },
  {
   "cell_type": "code",
   "execution_count": 82,
   "metadata": {},
   "outputs": [
    {
     "data": {
      "text/plain": [
       "[<matplotlib.lines.Line2D at 0x7f32a9354190>]"
      ]
     },
     "execution_count": 82,
     "metadata": {},
     "output_type": "execute_result"
    },
    {
     "data": {
      "image/png": "[encoded data removed]",
      "text/plain": [
       "<Figure size 432x288 with 1 Axes>"
      ]
     },
     "metadata": {
      "needs_background": "light"
     },
     "output_type": "display_data"
    }
   ],
   "source": [
    "plt.plot(np.arange(0, 100), a**8)"
   ]
  }
 ],
 "metadata": {
  "kernelspec": {
   "display_name": "Python 3",
   "language": "python",
   "name": "python3"
  },
  "language_info": {
   "codemirror_mode": {
    "name": "ipython",
    "version": 3
   },
   "file_extension": ".py",
   "mimetype": "text/x-python",
   "name": "python",
   "nbconvert_exporter": "python",
   "pygments_lexer": "ipython3",
   "version": "3.7.4"
  }
 },
 "nbformat": 4,
 "nbformat_minor": 2
}
